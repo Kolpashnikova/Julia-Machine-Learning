{
 "cells": [
  {
   "cell_type": "code",
   "execution_count": 1,
   "metadata": {},
   "outputs": [],
   "source": [
    "using RDatasets, Clustering, Plots, Distances"
   ]
  },
  {
   "cell_type": "code",
   "execution_count": 2,
   "metadata": {},
   "outputs": [],
   "source": [
    "# load the iris dataset\n",
    "iris = dataset(\"datasets\", \"iris\"); # load the data"
   ]
  },
  {
   "cell_type": "code",
   "execution_count": 3,
   "metadata": {},
   "outputs": [],
   "source": [
    "# load features\n",
    "features = collect(Matrix(iris[:, 1:4])'); # features to use for clustering"
   ]
  },
  {
   "cell_type": "code",
   "execution_count": 4,
   "metadata": {},
   "outputs": [
    {
     "data": {
      "text/plain": [
       "150×150 Array{Float64,2}:\n",
       " 0.0       0.538516  0.509902  0.648074  …  4.45982   4.65081   4.14005 \n",
       " 0.538516  0.0       0.3       0.331662     4.49889   4.71805   4.15331 \n",
       " 0.509902  0.3       0.0       0.244949     4.66154   4.84871   4.29884 \n",
       " 0.648074  0.331662  0.244949  0.0          4.53321   4.71911   4.1497  \n",
       " 0.141421  0.608276  0.509902  0.648074     4.50444   4.67868   4.17373 \n",
       " 0.616441  1.09087   1.08628   1.16619   …  4.10244   4.26497   3.81838 \n",
       " 0.519615  0.509902  0.264575  0.331662     4.59347   4.74974   4.21782 \n",
       " 0.173205  0.424264  0.412311  0.5          4.39773   4.58912   4.06079 \n",
       " 0.921954  0.509902  0.43589   0.3          4.70106   4.88876   4.30232 \n",
       " 0.469042  0.173205  0.316228  0.316228     4.45758   4.67226   4.10609 \n",
       " 0.374166  0.866025  0.883176  1.0       …  4.31625   4.5111    4.03237 \n",
       " 0.374166  0.458258  0.374166  0.374166     4.38748   4.5618    4.02244 \n",
       " 0.591608  0.141421  0.264575  0.264575     4.57602   4.79166   4.21782 \n",
       " ⋮                                       ⋱                              \n",
       " 3.89615   3.91535   4.06694   3.92683      0.67082   0.9       0.316228\n",
       " 4.79687   4.86004   5.02693   4.91019      0.469042  0.787401  1.09087 \n",
       " 5.01996   5.07247   5.22877   5.1049    …  0.608276  0.6245    1.1225  \n",
       " 4.63681   4.70213   4.86826   4.76025      0.519615  0.818535  1.1225  \n",
       " 4.20833   4.18091   4.33474   4.17732      0.774597  0.948683  0.331662\n",
       " 5.25738   5.32071   5.4754    5.34977      0.842615  0.806226  1.31909 \n",
       " 5.13615   5.20673   5.3535    5.23259      0.793725  0.6245    1.25698 \n",
       " 4.65403   4.7       4.86415   4.74552   …  0.360555  0.67082   0.948683\n",
       " 4.27668   4.24971   4.43058   4.28836      0.583095  1.06771   0.655744\n",
       " 4.45982   4.49889   4.66154   4.53321      0.0       0.616441  0.640312\n",
       " 4.65081   4.71805   4.84871   4.71911      0.616441  0.0       0.768115\n",
       " 4.14005   4.15331   4.29884   4.1497       0.640312  0.768115  0.0     "
      ]
     },
     "execution_count": 4,
     "metadata": {},
     "output_type": "execute_result"
    }
   ],
   "source": [
    "# create a distance matrix\n",
    "dist_matrix = pairwise(Euclidean(), features, features, dims=2)"
   ]
  },
  {
   "cell_type": "code",
   "execution_count": 5,
   "metadata": {},
   "outputs": [],
   "source": [
    "# apply hierarchical clustering to the dataset\n",
    "result = hclust(dist_matrix, linkage=:complete);"
   ]
  }
 ],
 "metadata": {
  "kernelspec": {
   "display_name": "Julia 1.2.0",
   "language": "julia",
   "name": "julia-1.2"
  },
  "language_info": {
   "file_extension": ".jl",
   "mimetype": "application/julia",
   "name": "julia",
   "version": "1.2.0"
  }
 },
 "nbformat": 4,
 "nbformat_minor": 2
}
